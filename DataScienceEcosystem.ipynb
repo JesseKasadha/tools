{
 "cells": [
  {
   "cell_type": "markdown",
   "id": "efb20360-73e9-4240-8966-7aadc3537e1d",
   "metadata": {},
   "source": [
    "# Data Science Tools and Ecosystem"
   ]
  },
  {
   "cell_type": "markdown",
   "id": "45cd4399-67e9-4088-a000-e0db25ae9d42",
   "metadata": {},
   "source": [
    "**Objectives**\n",
    "- List popular languages for Data Science\n",
    "- List Commonly Used Libraries\n",
    "- List Data Science tools"
   ]
  },
  {
   "cell_type": "markdown",
   "id": "737e36f8-50de-4f99-9954-7d1356a7c267",
   "metadata": {},
   "source": [
    "In this notebook, Data Science Tools and Ecosystem are summarized."
   ]
  },
  {
   "cell_type": "markdown",
   "id": "7b9e1ec0-fff2-412c-a670-243c79b06046",
   "metadata": {},
   "source": [
    "Some of the popular languages that Data Scientists use are:\n",
    "1. Python\n",
    "2. R\n",
    "3. Julia"
   ]
  },
  {
   "cell_type": "markdown",
   "id": "ff8bd231-26c9-4dc0-8705-6a6618461282",
   "metadata": {},
   "source": [
    "Some of the commonly used libraries used by Data Scientists include:\n",
    "1. Numpy\n",
    "2. Pandas\n",
    "3. Seaborn"
   ]
  },
  {
   "cell_type": "markdown",
   "id": "9503a1d3-a3b2-4fb1-b7e9-0c1949bf24a6",
   "metadata": {},
   "source": [
    "\n",
    "|Data Science Tools|\n",
    "|------------------|\n",
    "|Python            |\n",
    "|R                 |\n",
    "|SQL               |"
   ]
  },
  {
   "cell_type": "markdown",
   "id": "de7d9ff3-4afa-4224-a8d0-e2c2c1ca7d79",
   "metadata": {},
   "source": [
    "### Below are a few examples of evaluating arithmetic expressions in Python"
   ]
  },
  {
   "cell_type": "code",
   "execution_count": 12,
   "id": "09a47782-de85-46f2-9976-fee2d2e25e44",
   "metadata": {},
   "outputs": [
    {
     "data": {
      "text/plain": [
       "17"
      ]
     },
     "execution_count": 12,
     "metadata": {},
     "output_type": "execute_result"
    }
   ],
   "source": [
    "#This a simple arithmetic expression to mutiply then add integers\n",
    "(3*4)+5"
   ]
  },
  {
   "cell_type": "code",
   "execution_count": 14,
   "id": "ff4e2a77-e755-4b96-be38-c377fa686418",
   "metadata": {},
   "outputs": [
    {
     "data": {
      "text/plain": [
       "3.3333333333333335"
      ]
     },
     "execution_count": 14,
     "metadata": {},
     "output_type": "execute_result"
    }
   ],
   "source": [
    "#This will convert 200 minutes to hours by diving by 60\n",
    "200/60"
   ]
  },
  {
   "cell_type": "markdown",
   "id": "57c08cdb-0c54-4788-beee-8abdb2266c22",
   "metadata": {},
   "source": [
    "## Author\n",
    "JESSE KASADHA"
   ]
  },
  {
   "cell_type": "code",
   "execution_count": null,
   "id": "71fe31eb-9d66-4ce0-811c-03334451eed9",
   "metadata": {},
   "outputs": [],
   "source": []
  }
 ],
 "metadata": {
  "kernelspec": {
   "display_name": "Python 3 (ipykernel)",
   "language": "python",
   "name": "python3"
  },
  "language_info": {
   "codemirror_mode": {
    "name": "ipython",
    "version": 3
   },
   "file_extension": ".py",
   "mimetype": "text/x-python",
   "name": "python",
   "nbconvert_exporter": "python",
   "pygments_lexer": "ipython3",
   "version": "3.12.7"
  }
 },
 "nbformat": 4,
 "nbformat_minor": 5
}
